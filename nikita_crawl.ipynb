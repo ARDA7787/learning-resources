{
 "cells": [
  {
   "cell_type": "code",
   "execution_count": 1,
   "metadata": {},
   "outputs": [
    {
     "name": "stdout",
     "output_type": "stream",
     "text": [
      "<html lang=\"en\">\n",
      " <head>\n",
      "  <meta content=\"text/html; charset=utf-8\" http-equiv=\"Content-Type\"/>\n",
      "  <title>\n",
      "   Redirect Notice\n",
      "  </title>\n",
      "  <style>\n",
      "   body,div,a{font-family:Arial,sans-serif}body{background-color:#fff;margin-top:3px}div{color:#000}a:link{color:#4b11a8;}a:visited{color:#4b11a8;}a:active{color:#ea4335}div.mymGo{border-top:1px solid #dadce0;border-bottom:1px solid #dadce0;background:#f8f9fa;margin-top:1em;width:100%}div.aXgaGb{padding:0.5em 0;margin-left:10px}div.fTk7vd{margin-left:35px;margin-top:35px}\n",
      "  </style>\n",
      " </head>\n",
      " <body>\n",
      "  <div class=\"mymGo\">\n",
      "   <div class=\"aXgaGb\">\n",
      "    <font style=\"font-size:larger\">\n",
      "     <b>\n",
      "      Redirect Notice\n",
      "     </b>\n",
      "    </font>\n",
      "   </div>\n",
      "  </div>\n",
      "  <div class=\"fTk7vd\">\n",
      "   The previous page is sending you to\n",
      "   <a href=\"https://medium.com/@nikitaghodke04\">\n",
      "    https://medium.com/@nikitaghodke04\n",
      "   </a>\n",
      "   .\n",
      "   <br/>\n",
      "   <br/>\n",
      "   If you do not want to visit that page, you can\n",
      "   <a href=\"#\" id=\"tsuid_eF9bZ6mtErns5NoPtbmFwAs_1\">\n",
      "    return to the previous page\n",
      "   </a>\n",
      "   .\n",
      "   <script nonce=\"d2UewpUte8SotoHdRB2HQg\">\n",
      "    (function(){var id='tsuid_eF9bZ6mtErns5NoPtbmFwAs_1';(function(){document.getElementById(id).onclick=function(){window.history.back();return!1};}).call(this);})();(function(){var id='tsuid_eF9bZ6mtErns5NoPtbmFwAs_1';var ct='originlink';var oi='unauthorizedredirect';(function(){document.getElementById(id).onmousedown=function(){var b=document&&document.referrer,a=\"encodeURIComponent\"in window?encodeURIComponent:escape,c=\"\";b&&(c=a(b));(new Image).src=\"/url?sa=T&url=\"+c+\"&oi=\"+a(oi)+\"&ct=\"+a(ct);return!1};}).call(this);})();\n",
      "   </script>\n",
      "   <br/>\n",
      "   <br/>\n",
      "   <br/>\n",
      "  </div>\n",
      " </body>\n",
      "</html>\n"
     ]
    }
   ],
   "source": [
    "import requests\n",
    "from bs4 import BeautifulSoup\n",
    "\n",
    "url = 'https://www.google.com/url?sa=i&url=https%3A%2F%2Fmedium.com%2F%40nikitaghodke04&psig=AOvVaw3sNyvCAZvQOGPYlgWZkpuv&ust=1734127804683000&source=images&cd=vfe&opi=89978449&ved=2ahUKEwjX587Pn6OKAxVvNVkFHc7OEbgQjhx6BAgAEBg/'\n",
    "\n",
    "response = requests.get(url)\n",
    "soup = BeautifulSoup(response.text, 'html.parser')\n",
    "\n",
    "print(soup.prettify())"
   ]
  },
  {
   "cell_type": "code",
   "execution_count": null,
   "metadata": {},
   "outputs": [],
   "source": []
  }
 ],
 "metadata": {
  "kernelspec": {
   "display_name": "base",
   "language": "python",
   "name": "python3"
  },
  "language_info": {
   "codemirror_mode": {
    "name": "ipython",
    "version": 3
   },
   "file_extension": ".py",
   "mimetype": "text/x-python",
   "name": "python",
   "nbconvert_exporter": "python",
   "pygments_lexer": "ipython3",
   "version": "3.10.9"
  }
 },
 "nbformat": 4,
 "nbformat_minor": 2
}
